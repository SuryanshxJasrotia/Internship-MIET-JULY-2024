{
  "nbformat": 4,
  "nbformat_minor": 0,
  "metadata": {
    "colab": {
      "provenance": [],
      "authorship_tag": "ABX9TyM1STZ3YSYEcsSd459o9twH",
      "include_colab_link": true
    },
    "kernelspec": {
      "name": "python3",
      "display_name": "Python 3"
    },
    "language_info": {
      "name": "python"
    }
  },
  "cells": [
    {
      "cell_type": "markdown",
      "metadata": {
        "id": "view-in-github",
        "colab_type": "text"
      },
      "source": [
        "<a href=\"https://colab.research.google.com/github/SuryanshxJasrotia/Internship-MIET-JULY-2024/blob/main/Exp2.ipynb\" target=\"_parent\"><img src=\"https://colab.research.google.com/assets/colab-badge.svg\" alt=\"Open In Colab\"/></a>"
      ]
    },
    {
      "cell_type": "code",
      "execution_count": null,
      "metadata": {
        "id": "n6iPvW0EdTle"
      },
      "outputs": [],
      "source": [
        "import pandas as pd\n",
        "import numpy as np\n",
        "\n"
      ]
    },
    {
      "cell_type": "code",
      "source": [],
      "metadata": {
        "id": "I_Ba9wQvOusQ"
      },
      "execution_count": null,
      "outputs": []
    },
    {
      "cell_type": "code",
      "source": [
        "#loading data from csv file\n",
        "data=pd.DataFrame(data=pd.read_csv('ws.csv'))\n",
        "print(data)"
      ],
      "metadata": {
        "colab": {
          "base_uri": "https://localhost:8080/"
        },
        "id": "yq-OBGgbjVxG",
        "outputId": "88ba1eda-098d-4980-e297-a63e51f47ec2"
      },
      "execution_count": null,
      "outputs": [
        {
          "output_type": "stream",
          "name": "stdout",
          "text": [
            "   Sunny  Warm Normal  Strong Warm.1    Same  Yes\n",
            "0  Sunny  Warm   High  Strong   Warm    Same  Yes\n",
            "1  Rainy  Cold   High  Strong   Warm  Change   No\n",
            "2  Sunny  Warm   High  Strong   Cool  Change  Yes\n"
          ]
        }
      ]
    },
    {
      "cell_type": "code",
      "source": [],
      "metadata": {
        "id": "gsOcqOOioJpq"
      },
      "execution_count": null,
      "outputs": []
    },
    {
      "cell_type": "code",
      "source": [],
      "metadata": {
        "id": "-WeapTeYoL3d"
      },
      "execution_count": null,
      "outputs": []
    },
    {
      "cell_type": "code",
      "source": [
        "#seperating concept features from target\n",
        "concepts=np.array(data.iloc[:,0:1])\n",
        "print(concepts)"
      ],
      "metadata": {
        "colab": {
          "base_uri": "https://localhost:8080/"
        },
        "id": "MjujnoxNlOiC",
        "outputId": "be6c4681-b2de-4c6f-eab3-f4ecbc36a789"
      },
      "execution_count": null,
      "outputs": [
        {
          "output_type": "stream",
          "name": "stdout",
          "text": [
            "[['Sunny']\n",
            " ['Rainy']\n",
            " ['Sunny']]\n"
          ]
        }
      ]
    },
    {
      "cell_type": "code",
      "source": [
        "#isolating target into a seperate dataframe\n",
        "#copying last column to target array\n",
        "target=np.array(data.iloc[:,-1]) #iloc is index based selection\n",
        "print(target)"
      ],
      "metadata": {
        "colab": {
          "base_uri": "https://localhost:8080/"
        },
        "id": "VrwxAgutlrp3",
        "outputId": "b4852e3d-5bc8-4dbd-fd16-f77b306f7863"
      },
      "execution_count": null,
      "outputs": [
        {
          "output_type": "stream",
          "name": "stdout",
          "text": [
            "['Yes' 'No' 'Yes']\n"
          ]
        }
      ]
    },
    {
      "cell_type": "code",
      "source": [
        "def learn(concepts,target):\n",
        "  specific_h=concepts[0].copy()\n",
        "  print(\"\\n Initiallization of specific_h and general_h\")\n",
        "  print(specific_h)\n",
        "  general_h=[[\"?\" for i in range(len(specific_h))] for i in range(len(specific_h))]\n",
        "  print(general_h)\n",
        "\n",
        "for i,h in enmurate(concepts):\n",
        "  if target[i]==\"yes\":\n",
        "    for x in range(len(specific_h)):\n",
        "      if h[x]!=specific_h[x]:\n",
        "        specific_h[x]='?'\n",
        "        general_h[x][x]='?'\n"
      ],
      "metadata": {
        "id": "KACwSWpHoOH4"
      },
      "execution_count": null,
      "outputs": []
    }
  ]
}